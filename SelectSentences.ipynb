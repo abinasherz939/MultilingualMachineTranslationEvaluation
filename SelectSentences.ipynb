{
 "cells": [
  {
   "cell_type": "code",
   "execution_count": 1,
   "metadata": {},
   "outputs": [],
   "source": [
    "import numpy as np\n",
    "import pandas as pd \n",
    "import os\n",
    "import random"
   ]
  },
  {
   "cell_type": "code",
   "execution_count": 2,
   "metadata": {},
   "outputs": [],
   "source": [
    "randomIndexes = random.sample(range(0, 2390), 1000)"
   ]
  },
  {
   "cell_type": "code",
   "execution_count": 3,
   "metadata": {},
   "outputs": [],
   "source": [
    "def getRandomSentense(path):\n",
    "  with open(path, 'r') as f:\n",
    "    data = f.read();\n",
    "    sentences = data.split('\\n')\n",
    "    sentences = [sentence.strip().replace('\\u200d', '')for sentence in sentences]\n",
    "\n",
    "    randomSentences = [sentences[i] for i in randomIndexes]\n",
    "    return randomSentences"
   ]
  },
  {
   "cell_type": "code",
   "execution_count": 4,
   "metadata": {},
   "outputs": [],
   "source": [
    "englishSentences = getRandomSentense('./benchmarks/wat2021-devtest/test.en')\n",
    "hindSentences = getRandomSentense('./benchmarks/wat2021-devtest/test.hi')\n",
    "banglaSentences = getRandomSentense('./benchmarks/wat2021-devtest/test.bn')"
   ]
  },
  {
   "cell_type": "code",
   "execution_count": 5,
   "metadata": {},
   "outputs": [
    {
     "name": "stdout",
     "output_type": "stream",
     "text": [
      "['We now experience how something grows naturally.', 'They believe that the simultaneous emergence of India and China as two large economies and major powers with strategic and decisional autonomy, has implications of regional and global significance.', 'We are aware of the power of the collective resolve, hard work, sacrifice and devotion of our 125 crore citizens.', 'We have also decided to start an annual exchange of bilateral visits by 100 young people from science-related educational streams.', 'With their collective efforts, they have not only changed their own fortunes but have changed fortunes of the whole region.', '101 of these satellites were owned by countries such as USA, Israel, Switzerland, Netherlands, Kazakhstan and UAE.', 'We need to support such initiative and leadership through policies and practices.', 'India is one of the most investor-friendly economies in the world.', 'We agreed that there is an urgent need for all countries to decisively act against those states who generate, support, shelter and sustain these factories of violence in our regions.', 'A framework for cooperation is also necessary to expeditiously act in cases related to consumers from other countries.']\n",
      "['एक सहज़ रूप से, चीज़ कैसे आगे बढ़ती है ये हम सब अनुभव करते हैं ।', 'उनका मानना है कि भारत और चीन का दो विशाल अर्थव्यवस्थाओं एवं महत्वपूर्ण शक्तियों के रूप में रणनीतिक और निर्णय लेने की स्वतंत्रता सहित एक साथ उदय क्षेत्रीय एवं अंतरराष्ट्रीय रूप से महत्व रखता है।', 'सवा सौ करोड़ देशवासियों के संकल्प से, सवा सौ करोड़ देशवासियों के पुरूषार्थ से, सवा सौ करोड़ देशवासियों के त्याग और तपस्या से और हम जानते हैं सामूहिकता की शक्ति क्या होती है।', 'हमने विज्ञान संबंधी शैक्षणिक विधाओं से 100 युवा लोगों के द्विपक्षीय भ्रमण का वार्षिक आदान-प्रदान शुरू करने का भी विनिश्चय किया है।', 'उन्होंने संगठित प्रयासों से न सिर्फ़ अपना बल्कि अपने क्षेत्र का भी भाग्य बदल डाला।', 'इनमें से 101 उपग्रह अमेरिका, इजराइल, स्विटजरलैंड, नीदरलैंड, कजाकिस्तान और संयुक्त अरब अमीरात के थे।', 'हमें नीतियों और कार्यों के जरिये ऐसी पहलों का समर्थन करने की जरूरत है।.', 'भारत दुनिया की सर्वाधिक निवेशक अनुकूल अर्थव्यवस्थाओं में से एक है।', 'हम दोनों इस बात पर सहमत हैं कि सभी देशों को उन राष्ट्रों के खिलाफ तत्काल कार्रवाई करने की आवश्यकता है, जो हमारे क्षेत्र में आतंकवाद पैदा करते हैं, उन्हें सहायता, प्रश्रय देते हैं और आतंक के इन कारखानों को बने रहने देते हैं।', 'दूसरे देशों के उपभोक्ताओ से जुड़े मामलों में तेजी से की गई कार्रवाई करने के लिए Co-operation का फ्रेम वर्क होना भी जरूरी है।']\n",
      "['সহজভাবে কোন জিনিস কীভাবে এগিয়ে চলে তা আমরা সবাই অনুভব করছি।', 'উভয় নেতাই বিশ্বাস করেন যে, দুই বৃহৎ অর্থনীতি হিসাবে এবং কৌশল ও সিদ্ধান্তগত সুশাসন সহ, ভারত ও চীনের যুগপৎ উত্থানের আঞ্চলিক ও আন্তর্জাতিক তাৎপর্য রয়েছে।', '১২৫ কোটি দেশবাসীর শপথ,সমবেত সংকল্পশক্তি, সমবেতপৌরুষ এবং ত্যাগ ও তপস্যার মূল্য আমরা বুঝি।', 'বিজ্ঞান শিক্ষার সঙ্গে যুক্ত ১০০ জনেরও বেশিতরুণ-তরুণীদের দ্বিপাক্ষিক বিনিময় সফর শুরু করারও আমরা সিদ্ধান্ত গ্রহণ করেছি।', 'দলবদ্ধ প্রচেষ্টায় ওঁরা শুধু নিজেদের নয়, নিজেদের এলাকার ভাগ্য বদলে দিয়েছেন।', 'এই উপগ্রহগুলিরমধ্যে আবার ১০০টি হল মার্কিন যুক্তরাষ্ট্র, ইজরায়েল, স্যুইজারল্যান্ড,নেদারল্যান্ডস, কাজাখস্থান এবং সংযুক্ত আরব আমিরশাহির।', 'নীতি প্রণয়ন এবং তা রূপায়ণের মধ্য দিয়ে এইধরনের উদ্যোগ ও নেতৃত্বকে সমর্থন যুগিয়ে যাওয়ার প্রয়োজন রয়েছে ।', 'বিশ্বের সর্বাপেক্ষা বিনিয়োগ-বান্ধব অর্থনীতির অন্যতম হ’ল ভারত।', 'যে সমস্ত রাষ্ট্র সন্ত্রাসের জন্মদেয়, তাকে সমর্থন করে এবং আশ্রয় দিয়ে টিকে থাকতে সাহায্য করে তাদের বিরুদ্ধে রুখেদাঁড়ানো আশু প্রয়োজন সবক’টি দেশেরই।', 'অন্যান্য দেশের গ্রাহক ও ক্রেতাসাধারণের স্বার্থ সংশ্লিষ্ট বিষয়গুলি দেখভালের জন্য সহযোগিতার একটি কাঠামোও গড়েতোলা প্রয়োজন, যাতে দ্রুত ব্যবস্থা গ্রহণ করা সম্ভব হয়ে ওঠে।']\n"
     ]
    }
   ],
   "source": [
    "print(englishSentences[:10])\n",
    "print(hindSentences[:10])\n",
    "print(banglaSentences[:10])"
   ]
  },
  {
   "cell_type": "code",
   "execution_count": 6,
   "metadata": {},
   "outputs": [],
   "source": [
    "def writeToFile(sentences, path):\n",
    "  with open (path, 'w') as f:\n",
    "    for sentence in sentences:\n",
    "      f.write(sentence + '\\n')"
   ]
  },
  {
   "cell_type": "code",
   "execution_count": 7,
   "metadata": {},
   "outputs": [],
   "source": [
    "writeToFile(englishSentences, 'English.txt')\n",
    "writeToFile(hindSentences, 'Hindi.txt')\n",
    "writeToFile(banglaSentences, 'Bangla.txt')"
   ]
  }
 ],
 "metadata": {
  "kernelspec": {
   "display_name": "ComputationalLinguistics",
   "language": "python",
   "name": "python3"
  },
  "language_info": {
   "codemirror_mode": {
    "name": "ipython",
    "version": 3
   },
   "file_extension": ".py",
   "mimetype": "text/x-python",
   "name": "python",
   "nbconvert_exporter": "python",
   "pygments_lexer": "ipython3",
   "version": "3.10.13"
  }
 },
 "nbformat": 4,
 "nbformat_minor": 2
}
